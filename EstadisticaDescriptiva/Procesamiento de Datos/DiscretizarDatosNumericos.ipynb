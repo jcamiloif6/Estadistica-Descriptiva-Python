{
 "cells": [
  {
   "cell_type": "markdown",
   "id": "2bfb8fa5",
   "metadata": {},
   "source": [
    "# <font color= '#FF8000'>Discretizacion / Categorizacion</font>"
   ]
  },
  {
   "cell_type": "markdown",
   "id": "fe872576",
   "metadata": {},
   "source": [
    "## <font color='#FFFFFF'>Contenedores del Mismo Tamaño</font>"
   ]
  },
  {
   "cell_type": "code",
   "execution_count": 39,
   "id": "cee3a627",
   "metadata": {},
   "outputs": [
    {
     "name": "stdout",
     "output_type": "stream",
     "text": [
      "[  0.901  34.     67.    100.   ] \n",
      "\n",
      "[0 0 0 0 0 0 1 1 1 2 2 2] \n",
      "\n",
      "Index(['baja', 'media', 'alta'], dtype='object') \n",
      "\n",
      "['baja' 'baja' 'baja' 'baja' 'baja' 'baja' 'media' 'media' 'media' 'alta'\n",
      " 'alta' 'alta'] \n",
      "\n"
     ]
    }
   ],
   "source": [
    "import pandas as pd\n",
    "import numpy as np\n",
    "\n",
    "edades = np.array([1,7,8,15,16,28,35,50,55,70,75,100])\n",
    "\n",
    "resultado = pd.cut(edades, bins=3, labels=[\"baja\", \"media\", \"alta\"],\n",
    "                  include_lowest=True, retbins=True)\n",
    "\n",
    "print(resultado[1], \"\\n\")\n",
    "print(resultado[0].codes, \"\\n\")\n",
    "print(resultado[0].categories, \"\\n\")\n",
    "print(np.array(resultado[0]), \"\\n\")"
   ]
  },
  {
   "cell_type": "markdown",
   "id": "06c459e7",
   "metadata": {},
   "source": [
    "## <font color='#FFFFFF'>Contenedores de distinto tamaño</font>"
   ]
  },
  {
   "cell_type": "code",
   "execution_count": 41,
   "id": "9ea75397",
   "metadata": {},
   "outputs": [
    {
     "name": "stdout",
     "output_type": "stream",
     "text": [
      "[ 0. 11. 17. 59. inf] \n",
      "\n",
      "[0 0 0 1 1 2 2 2 2 3 3 3] \n",
      "\n",
      "Index(['Infante', 'Joven', 'Adulto', 'Mayor'], dtype='object') \n",
      "\n",
      "['Infante' 'Infante' 'Infante' 'Joven' 'Joven' 'Adulto' 'Adulto' 'Adulto'\n",
      " 'Adulto' 'Mayor' 'Mayor' 'Mayor'] \n",
      "\n"
     ]
    }
   ],
   "source": [
    "edades = np.array([1,7,8,15,16,28,35,50,55,70,75,100])\n",
    "\n",
    "resultado = pd.cut(edades, bins=[0,11,17,59,np.inf], \n",
    "                   labels=[\"Infante\", \"Joven\", \"Adulto\", \"Mayor\"],\n",
    "                  include_lowest=True, retbins=True)\n",
    "\n",
    "print(resultado[1], \"\\n\")\n",
    "print(resultado[0].codes, \"\\n\")\n",
    "print(resultado[0].categories, \"\\n\")\n",
    "print(np.array(resultado[0]), \"\\n\")"
   ]
  }
 ],
 "metadata": {
  "kernelspec": {
   "display_name": "Python 3 (ipykernel)",
   "language": "python",
   "name": "python3"
  },
  "language_info": {
   "codemirror_mode": {
    "name": "ipython",
    "version": 3
   },
   "file_extension": ".py",
   "mimetype": "text/x-python",
   "name": "python",
   "nbconvert_exporter": "python",
   "pygments_lexer": "ipython3",
   "version": "3.8.8"
  }
 },
 "nbformat": 4,
 "nbformat_minor": 5
}
